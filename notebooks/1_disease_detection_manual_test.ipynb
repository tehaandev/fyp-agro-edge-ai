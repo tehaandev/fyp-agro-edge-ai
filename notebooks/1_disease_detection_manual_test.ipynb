{
 "cells": [
  {
   "cell_type": "markdown",
   "id": "c894e56b",
   "metadata": {},
   "source": [
    "# Simple Model Testing\n",
    "\n",
    "Basic testing for the plant disease model."
   ]
  },
  {
   "cell_type": "code",
   "execution_count": 20,
   "id": "fddfb589",
   "metadata": {},
   "outputs": [
    {
     "name": "stdout",
     "output_type": "stream",
     "text": [
      "Ready to test!\n"
     ]
    }
   ],
   "source": [
    "import tensorflow as tf\n",
    "import numpy as np\n",
    "from keras.utils import load_img, img_to_array\n",
    "import os\n",
    "\n",
    "# Paths\n",
    "MODEL_PATH = \"../models/plant_disease__binary_model.tflite\"\n",
    "DATA_DIR = \"../data/custom\"\n",
    "\n",
    "print(\"Ready to test!\")"
   ]
  },
  {
   "cell_type": "code",
   "execution_count": 21,
   "id": "86fd3c3e",
   "metadata": {},
   "outputs": [
    {
     "name": "stdout",
     "output_type": "stream",
     "text": [
      "Model loaded!\n"
     ]
    }
   ],
   "source": [
    "# Load model\n",
    "interpreter = tf.lite.Interpreter(model_path=MODEL_PATH)\n",
    "interpreter.allocate_tensors()\n",
    "\n",
    "input_details = interpreter.get_input_details()\n",
    "output_details = interpreter.get_output_details()\n",
    "\n",
    "print(\"Model loaded!\")"
   ]
  },
  {
   "cell_type": "code",
   "execution_count": 24,
   "id": "0b297362",
   "metadata": {},
   "outputs": [
    {
     "name": "stdout",
     "output_type": "stream",
     "text": [
      "Image: healthy_tomato.jpg\n",
      "Prediction: DISEASED\n",
      "Score: 0.759\n"
     ]
    },
    {
     "name": "stderr",
     "output_type": "stream",
     "text": [
      "I0000 00:00:1756380939.664154   73581 gpu_device.cc:2019] Created device /job:localhost/replica:0/task:0/device:GPU:0 with 1741 MB memory:  -> device: 0, name: NVIDIA GeForce MX230, pci bus id: 0000:02:00.0, compute capability: 6.1\n"
     ]
    }
   ],
   "source": [
    "# Test an image\n",
    "image_name = \"healthy_tomato.jpg\"  # Change this to your image name\n",
    "image_path = os.path.join(DATA_DIR, image_name)\n",
    "\n",
    "# Load and preprocess\n",
    "img = load_img(image_path, target_size=(128, 128))\n",
    "img_array = img_to_array(img)\n",
    "img_array = tf.image.random_brightness(img_array, 0.2)\n",
    "img_array = tf.image.random_contrast(img_array, 0.8, 1.2)\n",
    "img_array = np.expand_dims(img_array, axis=0)\n",
    "img_array = img_array.astype(np.float32) / 255.0\n",
    "\n",
    "# Predict\n",
    "interpreter.set_tensor(input_details[0]['index'], img_array)\n",
    "interpreter.invoke()\n",
    "prediction = interpreter.get_tensor(output_details[0]['index'])[0][0]\n",
    "\n",
    "# Result\n",
    "if prediction > 0.5:\n",
    "    result = \"DISEASED\"\n",
    "else:\n",
    "    result = \"HEALTHY\"\n",
    "\n",
    "print(f\"Image: {image_name}\")\n",
    "print(f\"Prediction: {result}\")\n",
    "print(f\"Score: {prediction:.3f}\")"
   ]
  }
 ],
 "metadata": {
  "kernelspec": {
   "display_name": ".venv",
   "language": "python",
   "name": "python3"
  },
  "language_info": {
   "codemirror_mode": {
    "name": "ipython",
    "version": 3
   },
   "file_extension": ".py",
   "mimetype": "text/x-python",
   "name": "python",
   "nbconvert_exporter": "python",
   "pygments_lexer": "ipython3",
   "version": "3.12.0"
  }
 },
 "nbformat": 4,
 "nbformat_minor": 5
}
